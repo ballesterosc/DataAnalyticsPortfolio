{
 "cells": [
  {
   "cell_type": "code",
   "execution_count": 1,
   "id": "ba29a6b8",
   "metadata": {},
   "outputs": [],
   "source": [
    "import pandas as pd\n",
    "import matplotlib.pyplot as plt\n",
    "import seaborn as sns"
   ]
  },
  {
   "cell_type": "code",
   "execution_count": 2,
   "id": "722cbbc3",
   "metadata": {},
   "outputs": [],
   "source": [
    "food_claims = pd.read_csv('food_claims_2212.csv')"
   ]
  },
  {
   "cell_type": "markdown",
   "id": "020681cb",
   "metadata": {},
   "source": [
    "# Original Data Frame"
   ]
  },
  {
   "cell_type": "code",
   "execution_count": 3,
   "id": "7c9be934",
   "metadata": {},
   "outputs": [
    {
     "data": {
      "text/html": [
       "<div>\n",
       "<style scoped>\n",
       "    .dataframe tbody tr th:only-of-type {\n",
       "        vertical-align: middle;\n",
       "    }\n",
       "\n",
       "    .dataframe tbody tr th {\n",
       "        vertical-align: top;\n",
       "    }\n",
       "\n",
       "    .dataframe thead th {\n",
       "        text-align: right;\n",
       "    }\n",
       "</style>\n",
       "<table border=\"1\" class=\"dataframe\">\n",
       "  <thead>\n",
       "    <tr style=\"text-align: right;\">\n",
       "      <th></th>\n",
       "      <th>claim_id</th>\n",
       "      <th>time_to_close</th>\n",
       "      <th>claim_amount</th>\n",
       "      <th>amount_paid</th>\n",
       "      <th>location</th>\n",
       "      <th>individuals_on_claim</th>\n",
       "      <th>linked_cases</th>\n",
       "      <th>cause</th>\n",
       "    </tr>\n",
       "  </thead>\n",
       "  <tbody>\n",
       "    <tr>\n",
       "      <th>0</th>\n",
       "      <td>1</td>\n",
       "      <td>317</td>\n",
       "      <td>R$ 74474.55</td>\n",
       "      <td>51231.37</td>\n",
       "      <td>RECIFE</td>\n",
       "      <td>15</td>\n",
       "      <td>False</td>\n",
       "      <td>unknown</td>\n",
       "    </tr>\n",
       "    <tr>\n",
       "      <th>1</th>\n",
       "      <td>2</td>\n",
       "      <td>195</td>\n",
       "      <td>R$ 52137.83</td>\n",
       "      <td>42111.30</td>\n",
       "      <td>FORTALEZA</td>\n",
       "      <td>12</td>\n",
       "      <td>True</td>\n",
       "      <td>unknown</td>\n",
       "    </tr>\n",
       "    <tr>\n",
       "      <th>2</th>\n",
       "      <td>3</td>\n",
       "      <td>183</td>\n",
       "      <td>R$ 24447.2</td>\n",
       "      <td>23986.30</td>\n",
       "      <td>SAO LUIS</td>\n",
       "      <td>10</td>\n",
       "      <td>True</td>\n",
       "      <td>meat</td>\n",
       "    </tr>\n",
       "    <tr>\n",
       "      <th>3</th>\n",
       "      <td>4</td>\n",
       "      <td>186</td>\n",
       "      <td>R$ 29006.28</td>\n",
       "      <td>27942.72</td>\n",
       "      <td>FORTALEZA</td>\n",
       "      <td>11</td>\n",
       "      <td>False</td>\n",
       "      <td>meat</td>\n",
       "    </tr>\n",
       "    <tr>\n",
       "      <th>4</th>\n",
       "      <td>5</td>\n",
       "      <td>138</td>\n",
       "      <td>R$ 19520.6</td>\n",
       "      <td>16251.06</td>\n",
       "      <td>RECIFE</td>\n",
       "      <td>11</td>\n",
       "      <td>False</td>\n",
       "      <td>vegetable</td>\n",
       "    </tr>\n",
       "  </tbody>\n",
       "</table>\n",
       "</div>"
      ],
      "text/plain": [
       "   claim_id  time_to_close claim_amount  amount_paid   location  \\\n",
       "0         1            317  R$ 74474.55     51231.37     RECIFE   \n",
       "1         2            195  R$ 52137.83     42111.30  FORTALEZA   \n",
       "2         3            183   R$ 24447.2     23986.30   SAO LUIS   \n",
       "3         4            186  R$ 29006.28     27942.72  FORTALEZA   \n",
       "4         5            138   R$ 19520.6     16251.06     RECIFE   \n",
       "\n",
       "   individuals_on_claim linked_cases      cause  \n",
       "0                    15        False    unknown  \n",
       "1                    12         True    unknown  \n",
       "2                    10         True       meat  \n",
       "3                    11        False       meat  \n",
       "4                    11        False  vegetable  "
      ]
     },
     "execution_count": 3,
     "metadata": {},
     "output_type": "execute_result"
    }
   ],
   "source": [
    "food_claims.head(5)"
   ]
  },
  {
   "cell_type": "code",
   "execution_count": 4,
   "id": "285ae1f2",
   "metadata": {},
   "outputs": [
    {
     "name": "stdout",
     "output_type": "stream",
     "text": [
      "<class 'pandas.core.frame.DataFrame'>\n",
      "RangeIndex: 2000 entries, 0 to 1999\n",
      "Data columns (total 8 columns):\n",
      " #   Column                Non-Null Count  Dtype  \n",
      "---  ------                --------------  -----  \n",
      " 0   claim_id              2000 non-null   int64  \n",
      " 1   time_to_close         2000 non-null   int64  \n",
      " 2   claim_amount          2000 non-null   object \n",
      " 3   amount_paid           1964 non-null   float64\n",
      " 4   location              2000 non-null   object \n",
      " 5   individuals_on_claim  2000 non-null   int64  \n",
      " 6   linked_cases          1974 non-null   object \n",
      " 7   cause                 2000 non-null   object \n",
      "dtypes: float64(1), int64(3), object(4)\n",
      "memory usage: 125.1+ KB\n"
     ]
    }
   ],
   "source": [
    "food_claims.info()"
   ]
  },
  {
   "cell_type": "markdown",
   "id": "75f26897",
   "metadata": {},
   "source": [
    "# 1. For every column in the data:\n",
    "- State whether the values match the description given in the table above.\n",
    "- State the number of missing values in the column.\n",
    "- Describe what you did to make values match the description if they did not match."
   ]
  },
  {
   "cell_type": "code",
   "execution_count": 5,
   "id": "e1ec2b05",
   "metadata": {},
   "outputs": [],
   "source": [
    "df = food_claims"
   ]
  },
  {
   "cell_type": "markdown",
   "id": "4a6d4c5c",
   "metadata": {},
   "source": [
    "## claim_id"
   ]
  },
  {
   "cell_type": "code",
   "execution_count": 6,
   "id": "ebb797c9",
   "metadata": {},
   "outputs": [
    {
     "name": "stdout",
     "output_type": "stream",
     "text": [
      "<class 'pandas.core.series.Series'>\n",
      "RangeIndex: 2000 entries, 0 to 1999\n",
      "Series name: claim_id\n",
      "Non-Null Count  Dtype\n",
      "--------------  -----\n",
      "2000 non-null   int64\n",
      "dtypes: int64(1)\n",
      "memory usage: 15.8 KB\n"
     ]
    }
   ],
   "source": [
    "df.claim_id.info()"
   ]
  },
  {
   "cell_type": "code",
   "execution_count": 7,
   "id": "6211a18d",
   "metadata": {},
   "outputs": [],
   "source": [
    "df.claim_id = df.claim_id.astype('category')\n",
    "\n",
    "assert df.claim_id.dtype == 'category'"
   ]
  },
  {
   "cell_type": "code",
   "execution_count": 8,
   "id": "16fd4cd2",
   "metadata": {},
   "outputs": [
    {
     "name": "stdout",
     "output_type": "stream",
     "text": [
      "<class 'pandas.core.series.Series'>\n",
      "RangeIndex: 2000 entries, 0 to 1999\n",
      "Series name: claim_id\n",
      "Non-Null Count  Dtype   \n",
      "--------------  -----   \n",
      "2000 non-null   category\n",
      "dtypes: category(1)\n",
      "memory usage: 84.2 KB\n"
     ]
    }
   ],
   "source": [
    "df.claim_id.info()"
   ]
  },
  {
   "cell_type": "markdown",
   "id": "7a122121",
   "metadata": {},
   "source": [
    "The claim_id values were the unique identifier of the claim however, it wasn't nominal so I changed the data type to _category_ to match the decription. It's impossible for it to have missing values due to the database structure."
   ]
  },
  {
   "cell_type": "markdown",
   "id": "079f2feb",
   "metadata": {},
   "source": [
    "## time_to_close"
   ]
  },
  {
   "cell_type": "code",
   "execution_count": 9,
   "id": "1519e15c",
   "metadata": {},
   "outputs": [
    {
     "name": "stdout",
     "output_type": "stream",
     "text": [
      "<class 'pandas.core.series.Series'>\n",
      "RangeIndex: 2000 entries, 0 to 1999\n",
      "Series name: time_to_close\n",
      "Non-Null Count  Dtype\n",
      "--------------  -----\n",
      "2000 non-null   int64\n",
      "dtypes: int64(1)\n",
      "memory usage: 15.8 KB\n"
     ]
    }
   ],
   "source": [
    "df.time_to_close.info()"
   ]
  },
  {
   "cell_type": "markdown",
   "id": "b9320932",
   "metadata": {},
   "source": [
    "The time_to_close values matched the description given and the column didn't have any missing values."
   ]
  },
  {
   "cell_type": "markdown",
   "id": "f1818267",
   "metadata": {},
   "source": [
    "## claim_amount"
   ]
  },
  {
   "cell_type": "code",
   "execution_count": 10,
   "id": "092586f3",
   "metadata": {},
   "outputs": [
    {
     "name": "stdout",
     "output_type": "stream",
     "text": [
      "<class 'pandas.core.series.Series'>\n",
      "RangeIndex: 2000 entries, 0 to 1999\n",
      "Series name: claim_amount\n",
      "Non-Null Count  Dtype \n",
      "--------------  ----- \n",
      "2000 non-null   object\n",
      "dtypes: object(1)\n",
      "memory usage: 15.8+ KB\n"
     ]
    }
   ],
   "source": [
    "df.claim_amount.info()"
   ]
  },
  {
   "cell_type": "code",
   "execution_count": 11,
   "id": "ccd7ec77",
   "metadata": {},
   "outputs": [
    {
     "data": {
      "text/plain": [
       "0    R$ 74474.55\n",
       "1    R$ 52137.83\n",
       "2     R$ 24447.2\n",
       "Name: claim_amount, dtype: object"
      ]
     },
     "execution_count": 11,
     "metadata": {},
     "output_type": "execute_result"
    }
   ],
   "source": [
    "df.claim_amount.head(3)"
   ]
  },
  {
   "cell_type": "code",
   "execution_count": 12,
   "id": "4e08f5a7",
   "metadata": {},
   "outputs": [],
   "source": [
    "df.claim_amount = df.claim_amount.str.strip('R$ ')\n",
    "df.claim_amount = df.claim_amount.astype('float')\n",
    "\n",
    "assert df.claim_amount.dtype == 'float'"
   ]
  },
  {
   "cell_type": "code",
   "execution_count": 13,
   "id": "5e52cb3f",
   "metadata": {},
   "outputs": [],
   "source": [
    "df.claim_amount = round(df.claim_amount, 2)"
   ]
  },
  {
   "cell_type": "code",
   "execution_count": 14,
   "id": "84dda646",
   "metadata": {},
   "outputs": [
    {
     "name": "stdout",
     "output_type": "stream",
     "text": [
      "<class 'pandas.core.series.Series'>\n",
      "RangeIndex: 2000 entries, 0 to 1999\n",
      "Series name: claim_amount\n",
      "Non-Null Count  Dtype  \n",
      "--------------  -----  \n",
      "2000 non-null   float64\n",
      "dtypes: float64(1)\n",
      "memory usage: 15.8 KB\n"
     ]
    }
   ],
   "source": [
    "df.claim_amount.info()"
   ]
  },
  {
   "cell_type": "markdown",
   "id": "f5e1bb6d",
   "metadata": {},
   "source": [
    "The claim_amount values didn't match the data type desribed so I removed the text and changed the column to _float_ data type. Also, I rounded the values to two decimal places to match the description. The column didn't have any missing values."
   ]
  },
  {
   "cell_type": "markdown",
   "id": "ddf2cb89",
   "metadata": {},
   "source": [
    "## amount_paid"
   ]
  },
  {
   "cell_type": "code",
   "execution_count": 15,
   "id": "b4d6e0eb",
   "metadata": {},
   "outputs": [
    {
     "name": "stdout",
     "output_type": "stream",
     "text": [
      "<class 'pandas.core.series.Series'>\n",
      "RangeIndex: 2000 entries, 0 to 1999\n",
      "Series name: amount_paid\n",
      "Non-Null Count  Dtype  \n",
      "--------------  -----  \n",
      "1964 non-null   float64\n",
      "dtypes: float64(1)\n",
      "memory usage: 15.8 KB\n"
     ]
    }
   ],
   "source": [
    "df.amount_paid.info()"
   ]
  },
  {
   "cell_type": "code",
   "execution_count": 16,
   "id": "3da3009f",
   "metadata": {},
   "outputs": [],
   "source": [
    "df.amount_paid = round(df.amount_paid, 2)"
   ]
  },
  {
   "cell_type": "code",
   "execution_count": 17,
   "id": "26e07589",
   "metadata": {},
   "outputs": [
    {
     "data": {
      "text/plain": [
       "36"
      ]
     },
     "execution_count": 17,
     "metadata": {},
     "output_type": "execute_result"
    }
   ],
   "source": [
    "df.amount_paid.isnull().sum()"
   ]
  },
  {
   "cell_type": "code",
   "execution_count": 18,
   "id": "12ade8ed",
   "metadata": {},
   "outputs": [
    {
     "data": {
      "text/plain": [
       "20105.7"
      ]
     },
     "execution_count": 18,
     "metadata": {},
     "output_type": "execute_result"
    }
   ],
   "source": [
    "round(df.amount_paid.median(), 2)"
   ]
  },
  {
   "cell_type": "code",
   "execution_count": 19,
   "id": "94aba50e",
   "metadata": {},
   "outputs": [],
   "source": [
    "df.amount_paid = df.amount_paid.fillna(round(df.amount_paid.median(), 2))"
   ]
  },
  {
   "cell_type": "code",
   "execution_count": 20,
   "id": "66580be2",
   "metadata": {},
   "outputs": [
    {
     "name": "stdout",
     "output_type": "stream",
     "text": [
      "<class 'pandas.core.series.Series'>\n",
      "RangeIndex: 2000 entries, 0 to 1999\n",
      "Series name: amount_paid\n",
      "Non-Null Count  Dtype  \n",
      "--------------  -----  \n",
      "2000 non-null   float64\n",
      "dtypes: float64(1)\n",
      "memory usage: 15.8 KB\n"
     ]
    }
   ],
   "source": [
    "df.amount_paid.info()"
   ]
  },
  {
   "cell_type": "markdown",
   "id": "4aa9062a",
   "metadata": {},
   "source": [
    "The amount_paid values had the correct data type; however, I rounded the values to two decimal places to match the description. Also, the column had 36 missing values that I replaced with the overall median amount paid, as described."
   ]
  },
  {
   "cell_type": "markdown",
   "id": "2cc9f63b",
   "metadata": {},
   "source": [
    "## location"
   ]
  },
  {
   "cell_type": "code",
   "execution_count": 21,
   "id": "31457e86",
   "metadata": {},
   "outputs": [
    {
     "name": "stdout",
     "output_type": "stream",
     "text": [
      "<class 'pandas.core.series.Series'>\n",
      "RangeIndex: 2000 entries, 0 to 1999\n",
      "Series name: location\n",
      "Non-Null Count  Dtype \n",
      "--------------  ----- \n",
      "2000 non-null   object\n",
      "dtypes: object(1)\n",
      "memory usage: 15.8+ KB\n"
     ]
    }
   ],
   "source": [
    "df.location.info()"
   ]
  },
  {
   "cell_type": "code",
   "execution_count": 22,
   "id": "300bffc6",
   "metadata": {},
   "outputs": [],
   "source": [
    "df.location = df.location.astype('category')\n",
    "\n",
    "assert df.location.dtype == 'category'"
   ]
  },
  {
   "cell_type": "code",
   "execution_count": 23,
   "id": "e42ec95c",
   "metadata": {},
   "outputs": [
    {
     "name": "stdout",
     "output_type": "stream",
     "text": [
      "<class 'pandas.core.series.Series'>\n",
      "RangeIndex: 2000 entries, 0 to 1999\n",
      "Series name: location\n",
      "Non-Null Count  Dtype   \n",
      "--------------  -----   \n",
      "2000 non-null   category\n",
      "dtypes: category(1)\n",
      "memory usage: 2.3 KB\n"
     ]
    }
   ],
   "source": [
    "df.location.info()"
   ]
  },
  {
   "cell_type": "markdown",
   "id": "09fa6629",
   "metadata": {},
   "source": [
    "The location values didn't have the correct data type so I changed it to _category_ to match the description. The column didn't have any missing values."
   ]
  },
  {
   "cell_type": "markdown",
   "id": "dad3868c",
   "metadata": {},
   "source": [
    "## individuals_on_claim"
   ]
  },
  {
   "cell_type": "code",
   "execution_count": 24,
   "id": "5c6229b0",
   "metadata": {},
   "outputs": [
    {
     "name": "stdout",
     "output_type": "stream",
     "text": [
      "<class 'pandas.core.series.Series'>\n",
      "RangeIndex: 2000 entries, 0 to 1999\n",
      "Series name: individuals_on_claim\n",
      "Non-Null Count  Dtype\n",
      "--------------  -----\n",
      "2000 non-null   int64\n",
      "dtypes: int64(1)\n",
      "memory usage: 15.8 KB\n"
     ]
    }
   ],
   "source": [
    "df.individuals_on_claim.info()"
   ]
  },
  {
   "cell_type": "markdown",
   "id": "b4f6e891",
   "metadata": {},
   "source": [
    "The individuals_on_claim values matched the description and the column didn't have any missing values."
   ]
  },
  {
   "cell_type": "markdown",
   "id": "4deb7a65",
   "metadata": {},
   "source": [
    "## linked_cases"
   ]
  },
  {
   "cell_type": "code",
   "execution_count": 25,
   "id": "6f03d625",
   "metadata": {},
   "outputs": [
    {
     "name": "stdout",
     "output_type": "stream",
     "text": [
      "<class 'pandas.core.series.Series'>\n",
      "RangeIndex: 2000 entries, 0 to 1999\n",
      "Series name: linked_cases\n",
      "Non-Null Count  Dtype \n",
      "--------------  ----- \n",
      "1974 non-null   object\n",
      "dtypes: object(1)\n",
      "memory usage: 15.8+ KB\n"
     ]
    }
   ],
   "source": [
    "df.linked_cases.info()"
   ]
  },
  {
   "cell_type": "code",
   "execution_count": 26,
   "id": "904c1d72",
   "metadata": {},
   "outputs": [],
   "source": [
    "df.linked_cases = df.linked_cases.astype('category')\n",
    "\n",
    "assert df.linked_cases.dtype == 'category'"
   ]
  },
  {
   "cell_type": "code",
   "execution_count": 27,
   "id": "1c8b9672",
   "metadata": {},
   "outputs": [
    {
     "name": "stdout",
     "output_type": "stream",
     "text": [
      "<class 'pandas.core.series.Series'>\n",
      "RangeIndex: 2000 entries, 0 to 1999\n",
      "Series name: linked_cases\n",
      "Non-Null Count  Dtype   \n",
      "--------------  -----   \n",
      "1974 non-null   category\n",
      "dtypes: category(1)\n",
      "memory usage: 2.2 KB\n"
     ]
    }
   ],
   "source": [
    "df.linked_cases.info()"
   ]
  },
  {
   "cell_type": "code",
   "execution_count": 28,
   "id": "c21bd5a3",
   "metadata": {},
   "outputs": [
    {
     "data": {
      "text/plain": [
       "26"
      ]
     },
     "execution_count": 28,
     "metadata": {},
     "output_type": "execute_result"
    }
   ],
   "source": [
    "df.linked_cases.isnull().sum()"
   ]
  },
  {
   "cell_type": "code",
   "execution_count": 29,
   "id": "9833f1a4",
   "metadata": {},
   "outputs": [],
   "source": [
    "df.linked_cases = df.linked_cases.fillna(0)"
   ]
  },
  {
   "cell_type": "code",
   "execution_count": 30,
   "id": "1ce390bd",
   "metadata": {},
   "outputs": [
    {
     "name": "stdout",
     "output_type": "stream",
     "text": [
      "<class 'pandas.core.series.Series'>\n",
      "RangeIndex: 2000 entries, 0 to 1999\n",
      "Series name: linked_cases\n",
      "Non-Null Count  Dtype   \n",
      "--------------  -----   \n",
      "2000 non-null   category\n",
      "dtypes: category(1)\n",
      "memory usage: 2.2 KB\n"
     ]
    }
   ],
   "source": [
    "df.linked_cases.info()"
   ]
  },
  {
   "cell_type": "markdown",
   "id": "238ca574",
   "metadata": {},
   "source": [
    "The linked_cases values didn't match the description so I changed the data type to _category_ to match. Also, the column had 26 missing values that I replaced with False, as described."
   ]
  },
  {
   "cell_type": "markdown",
   "id": "5ce125d0",
   "metadata": {},
   "source": [
    "## cause"
   ]
  },
  {
   "cell_type": "code",
   "execution_count": 31,
   "id": "58937219",
   "metadata": {},
   "outputs": [
    {
     "name": "stdout",
     "output_type": "stream",
     "text": [
      "<class 'pandas.core.series.Series'>\n",
      "RangeIndex: 2000 entries, 0 to 1999\n",
      "Series name: cause\n",
      "Non-Null Count  Dtype \n",
      "--------------  ----- \n",
      "2000 non-null   object\n",
      "dtypes: object(1)\n",
      "memory usage: 15.8+ KB\n"
     ]
    }
   ],
   "source": [
    "df.cause.info()"
   ]
  },
  {
   "cell_type": "code",
   "execution_count": 32,
   "id": "a22b7fcd",
   "metadata": {},
   "outputs": [],
   "source": [
    "df.cause = df.cause.astype('category')\n",
    "\n",
    "assert df.cause.dtype == 'category'"
   ]
  },
  {
   "cell_type": "code",
   "execution_count": 33,
   "id": "0a0e41d3",
   "metadata": {},
   "outputs": [
    {
     "data": {
      "text/plain": [
       "CategoricalDtype(categories=[' Meat', 'VEGETABLES', 'meat', 'unknown', 'vegetable'], ordered=False)"
      ]
     },
     "execution_count": 33,
     "metadata": {},
     "output_type": "execute_result"
    }
   ],
   "source": [
    "df.cause.dtypes"
   ]
  },
  {
   "cell_type": "code",
   "execution_count": 34,
   "id": "c242ec23",
   "metadata": {},
   "outputs": [],
   "source": [
    "df.cause = df.cause.str.lower()"
   ]
  },
  {
   "cell_type": "code",
   "execution_count": 35,
   "id": "bff2139d",
   "metadata": {},
   "outputs": [],
   "source": [
    "df.cause = df.cause.str.strip()\n",
    "df.cause = df.cause.str.strip('s')"
   ]
  },
  {
   "cell_type": "code",
   "execution_count": 36,
   "id": "e38b1a26",
   "metadata": {},
   "outputs": [],
   "source": [
    "df.cause = df.cause.astype('category')\n",
    "\n",
    "assert df.cause.dtype == 'category'"
   ]
  },
  {
   "cell_type": "code",
   "execution_count": 37,
   "id": "67c1a322",
   "metadata": {},
   "outputs": [
    {
     "data": {
      "text/plain": [
       "CategoricalDtype(categories=['meat', 'unknown', 'vegetable'], ordered=False)"
      ]
     },
     "execution_count": 37,
     "metadata": {},
     "output_type": "execute_result"
    }
   ],
   "source": [
    "df.cause.dtypes"
   ]
  },
  {
   "cell_type": "markdown",
   "id": "27773f5e",
   "metadata": {},
   "source": [
    "The cause values didn't match the description so I changed the data type to _category_ to match. The categories were also inconsistent so I cleaned them up making the column all lowercase, removing spaces, and removing the letter 's'. The column didn't have any missing values."
   ]
  },
  {
   "cell_type": "markdown",
   "id": "fcd1daa2",
   "metadata": {},
   "source": [
    "# Cleaned Dataframe"
   ]
  },
  {
   "cell_type": "code",
   "execution_count": 38,
   "id": "8025cdc9",
   "metadata": {},
   "outputs": [
    {
     "name": "stdout",
     "output_type": "stream",
     "text": [
      "<class 'pandas.core.frame.DataFrame'>\n",
      "RangeIndex: 2000 entries, 0 to 1999\n",
      "Data columns (total 8 columns):\n",
      " #   Column                Non-Null Count  Dtype   \n",
      "---  ------                --------------  -----   \n",
      " 0   claim_id              2000 non-null   category\n",
      " 1   time_to_close         2000 non-null   int64   \n",
      " 2   claim_amount          2000 non-null   float64 \n",
      " 3   amount_paid           2000 non-null   float64 \n",
      " 4   location              2000 non-null   category\n",
      " 5   individuals_on_claim  2000 non-null   int64   \n",
      " 6   linked_cases          2000 non-null   category\n",
      " 7   cause                 2000 non-null   category\n",
      "dtypes: category(4), float64(2), int64(2)\n",
      "memory usage: 153.0 KB\n"
     ]
    }
   ],
   "source": [
    "df.info()"
   ]
  },
  {
   "cell_type": "markdown",
   "id": "e8a3b4f5",
   "metadata": {},
   "source": [
    "# 2. Create a visualization that shows the number of claims in each location. Use the visualization to:\n",
    "\n",
    "   - State which category of the variable location has the most observations\n",
    "   - Explain whether the observations are balanced across categories of the variable location"
   ]
  },
  {
   "cell_type": "code",
   "execution_count": 39,
   "id": "5101245e",
   "metadata": {},
   "outputs": [
    {
     "data": {
      "text/plain": [
       "<AxesSubplot:>"
      ]
     },
     "execution_count": 39,
     "metadata": {},
     "output_type": "execute_result"
    },
    {
     "data": {
      "image/png": "[encoded data removed]",
      "text/plain": [
       "<Figure size 640x480 with 1 Axes>"
      ]
     },
     "metadata": {},
     "output_type": "display_data"
    }
   ],
   "source": [
    "df.location.value_counts().plot(kind='barh')"
   ]
  },
  {
   "cell_type": "markdown",
   "id": "253c4a4c",
   "metadata": {},
   "source": [
    "Looking at the bar graph above we can clearly see the Recife location has the most number of observations. In addition, we clearly see the number of observations are not balanced across the four locations. Natal and Fortaleza appear to have a balanced number of observations but well below the number of Sao Luis and Recife."
   ]
  },
  {
   "cell_type": "markdown",
   "id": "6c656d21",
   "metadata": {},
   "source": [
    "# 3. Describe the distribution of time to close for all claims. Your answer must include a visualization that shows the distribution."
   ]
  },
  {
   "cell_type": "code",
   "execution_count": 40,
   "id": "9bc9c11b",
   "metadata": {},
   "outputs": [
    {
     "data": {
      "text/plain": [
       "<AxesSubplot:ylabel='Frequency'>"
      ]
     },
     "execution_count": 40,
     "metadata": {},
     "output_type": "execute_result"
    },
    {
     "data": {
      "image/png": "[encoded data removed]",
      "text/plain": [
       "<Figure size 640x480 with 1 Axes>"
      ]
     },
     "metadata": {},
     "output_type": "display_data"
    }
   ],
   "source": [
    "df.time_to_close.plot(kind='hist',bins=30)"
   ]
  },
  {
   "cell_type": "markdown",
   "id": "a3197b54",
   "metadata": {},
   "source": [
    "Looking at the distribution graph above of the overall time to close claims we can see that it has a positive skew. It appears to have a wide range with a minimum below a 100 and a maximum above 500 but with a positive skew we can make a few statistical assumptions. First, a majority of the claims closed  between 150 and 200 days which is why it is skewed. Second, we can assume the overall median of days to close is lower then the mean. Third, the mode is lower then the median."
   ]
  },
  {
   "cell_type": "markdown",
   "id": "d52fde72",
   "metadata": {},
   "source": [
    "# 4. Describe the relationship between time to close and location. Your answer must include a visualization to demonstrate the relationship."
   ]
  },
  {
   "cell_type": "code",
   "execution_count": 41,
   "id": "231d9678",
   "metadata": {},
   "outputs": [
    {
     "data": {
      "text/plain": [
       "Text(0.5, 9.444444444444438, 'Time To Close(Days)')"
      ]
     },
     "execution_count": 41,
     "metadata": {},
     "output_type": "execute_result"
    },
    {
     "data": {
      "image/png": "[encoded data removed]",
      "text/plain": [
       "<Figure size 500x500 with 1 Axes>"
      ]
     },
     "metadata": {},
     "output_type": "display_data"
    }
   ],
   "source": [
    "sns.catplot(x ='time_to_close', y ='location', data=df, jitter=False)\n",
    "plt.title('Time To Close and Location Scatterplot')\n",
    "plt.ylabel('Location')\n",
    "plt.xlabel('Time To Close(Days)')"
   ]
  },
  {
   "cell_type": "code",
   "execution_count": 42,
   "id": "3419c997",
   "metadata": {},
   "outputs": [
    {
     "data": {
      "text/plain": [
       "Text(0.5, 9.444444444444438, 'Time To Close(Days)')"
      ]
     },
     "execution_count": 42,
     "metadata": {},
     "output_type": "execute_result"
    },
    {
     "data": {
      "image/png": "[encoded data removed]",
      "text/plain": [
       "<Figure size 500x500 with 1 Axes>"
      ]
     },
     "metadata": {},
     "output_type": "display_data"
    }
   ],
   "source": [
    "sns.catplot(x ='time_to_close', y ='location', data=df, kind=\"box\")\n",
    "plt.title('Time To Close and Location Boxplot')\n",
    "plt.ylabel('Location')\n",
    "plt.xlabel('Time To Close(Days)')"
   ]
  },
  {
   "cell_type": "markdown",
   "id": "9f4a42bb",
   "metadata": {},
   "source": [
    "Looking at the two graphs above we can make a few assumptions about the relaitonship between time to close and location. The scatterplot plots all the claims per location and surprisingly they all look quite similar. So I decided to plot a boxplot as well to double check and get a better visualization. The benefit of the boxplot is that it gives you the first quartile, median, and third quartile of the time to close per location. Looking at both graphs we can assume there is no relationship between the time to close and location. The time to close was consistent, with similar interquatile ranges, across the four locations."
   ]
  }
 ],
 "metadata": {
  "kernelspec": {
   "display_name": "Python 3 (ipykernel)",
   "language": "python",
   "name": "python3"
  },
  "language_info": {
   "codemirror_mode": {
    "name": "ipython",
    "version": 3
   },
   "file_extension": ".py",
   "mimetype": "text/x-python",
   "name": "python",
   "nbconvert_exporter": "python",
   "pygments_lexer": "ipython3",
   "version": "3.9.13"
  }
 },
 "nbformat": 4,
 "nbformat_minor": 5
}
