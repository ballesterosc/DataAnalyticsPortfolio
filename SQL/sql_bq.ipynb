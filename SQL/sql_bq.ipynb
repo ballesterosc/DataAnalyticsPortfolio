{
 "cells": [
  {
   "cell_type": "markdown",
   "id": "7c78f359",
   "metadata": {},
   "source": [
    "## Analytics with BigQuery Dataset"
   ]
  },
  {
   "cell_type": "markdown",
   "id": "7fe6a8d1",
   "metadata": {},
   "source": [
    "This is a sample notebook of formulating SQL queries to analyze data and with some basic data visualization."
   ]
  },
  {
   "cell_type": "markdown",
   "id": "a7f9d83d",
   "metadata": {},
   "source": [
    "# Setup Packages"
   ]
  },
  {
   "cell_type": "code",
   "execution_count": 1,
   "id": "0cb67145",
   "metadata": {},
   "outputs": [],
   "source": [
    "import pandas as pd\n",
    "import matplotlib.pyplot as plt\n",
    "import seaborn as sns"
   ]
  },
  {
   "cell_type": "markdown",
   "id": "b61b7bde",
   "metadata": {},
   "source": [
    "# PostgreSQL Queries"
   ]
  },
  {
   "cell_type": "markdown",
   "id": "30802fd6",
   "metadata": {},
   "source": [
    "We'll be analyzing an ecommerce dataset that contains information about clothing products sold online."
   ]
  },
  {
   "cell_type": "code",
   "execution_count": 2,
   "id": "be65aeea",
   "metadata": {},
   "outputs": [],
   "source": [
    "JSON_FILE = 'portfolio-sql-375904-67942b649e01.json'\n",
    "\n",
    "from google.cloud import bigquery\n",
    "\n",
    "client = bigquery.Client.from_service_account_json(JSON_FILE)"
   ]
  },
  {
   "cell_type": "code",
   "execution_count": 3,
   "id": "4e86f4d8",
   "metadata": {},
   "outputs": [],
   "source": [
    "def extract_schema(table):\n",
    "    database = 'bigquery-public-data.thelook_ecommerce.'\n",
    "    \n",
    "    return(client.get_table(database + table).schema)"
   ]
  },
  {
   "cell_type": "markdown",
   "id": "b5eb338b",
   "metadata": {},
   "source": [
    "This dataset contains several tables but for this case will only be focusing on three.\n",
    "\n",
    "theLook Dataset Tables:\n",
    "- order_items\n",
    "- products\n",
    "- distribution_centers"
   ]
  },
  {
   "cell_type": "code",
   "execution_count": 4,
   "id": "f2456b37",
   "metadata": {},
   "outputs": [
    {
     "data": {
      "text/plain": [
       "[SchemaField('id', 'INTEGER', 'NULLABLE', None, None, (), None),\n",
       " SchemaField('order_id', 'INTEGER', 'NULLABLE', None, None, (), None),\n",
       " SchemaField('user_id', 'INTEGER', 'NULLABLE', None, None, (), None),\n",
       " SchemaField('product_id', 'INTEGER', 'NULLABLE', None, None, (), None),\n",
       " SchemaField('inventory_item_id', 'INTEGER', 'NULLABLE', None, None, (), None),\n",
       " SchemaField('status', 'STRING', 'NULLABLE', None, None, (), None),\n",
       " SchemaField('created_at', 'TIMESTAMP', 'NULLABLE', None, None, (), None),\n",
       " SchemaField('shipped_at', 'TIMESTAMP', 'NULLABLE', None, None, (), None),\n",
       " SchemaField('delivered_at', 'TIMESTAMP', 'NULLABLE', None, None, (), None),\n",
       " SchemaField('returned_at', 'TIMESTAMP', 'NULLABLE', None, None, (), None),\n",
       " SchemaField('sale_price', 'FLOAT', 'NULLABLE', None, None, (), None)]"
      ]
     },
     "execution_count": 4,
     "metadata": {},
     "output_type": "execute_result"
    }
   ],
   "source": [
    "table = 'order_items'\n",
    "extract_schema(table)"
   ]
  },
  {
   "cell_type": "code",
   "execution_count": 5,
   "id": "6f51d694",
   "metadata": {},
   "outputs": [
    {
     "data": {
      "text/plain": [
       "[SchemaField('id', 'INTEGER', 'NULLABLE', None, None, (), None),\n",
       " SchemaField('cost', 'FLOAT', 'NULLABLE', None, None, (), None),\n",
       " SchemaField('category', 'STRING', 'NULLABLE', None, None, (), None),\n",
       " SchemaField('name', 'STRING', 'NULLABLE', None, None, (), None),\n",
       " SchemaField('brand', 'STRING', 'NULLABLE', None, None, (), None),\n",
       " SchemaField('retail_price', 'FLOAT', 'NULLABLE', None, None, (), None),\n",
       " SchemaField('department', 'STRING', 'NULLABLE', None, None, (), None),\n",
       " SchemaField('sku', 'STRING', 'NULLABLE', None, None, (), None),\n",
       " SchemaField('distribution_center_id', 'INTEGER', 'NULLABLE', None, None, (), None)]"
      ]
     },
     "execution_count": 5,
     "metadata": {},
     "output_type": "execute_result"
    }
   ],
   "source": [
    "table = 'products'\n",
    "extract_schema(table)"
   ]
  },
  {
   "cell_type": "code",
   "execution_count": 6,
   "id": "f6234325",
   "metadata": {},
   "outputs": [
    {
     "data": {
      "text/plain": [
       "[SchemaField('id', 'INTEGER', 'NULLABLE', None, None, (), None),\n",
       " SchemaField('name', 'STRING', 'NULLABLE', None, None, (), None),\n",
       " SchemaField('latitude', 'FLOAT', 'NULLABLE', None, None, (), None),\n",
       " SchemaField('longitude', 'FLOAT', 'NULLABLE', None, None, (), None)]"
      ]
     },
     "execution_count": 6,
     "metadata": {},
     "output_type": "execute_result"
    }
   ],
   "source": [
    "table = 'distribution_centers'\n",
    "extract_schema(table)"
   ]
  },
  {
   "cell_type": "markdown",
   "id": "f414edcf",
   "metadata": {},
   "source": [
    "Reviewing the schemas we can see there is a lot of detailed information about the products and orders. So we need to run some queries to get an idea of the size of the market and where we want to start our analysis."
   ]
  },
  {
   "cell_type": "code",
   "execution_count": 7,
   "id": "a0350b2d",
   "metadata": {},
   "outputs": [],
   "source": [
    "def query_df(query):\n",
    "    return(client.query(query).result().to_dataframe())"
   ]
  },
  {
   "cell_type": "code",
   "execution_count": 8,
   "id": "78e7f569",
   "metadata": {
    "scrolled": true
   },
   "outputs": [
    {
     "data": {
      "text/html": [
       "<div>\n",
       "<style scoped>\n",
       "    .dataframe tbody tr th:only-of-type {\n",
       "        vertical-align: middle;\n",
       "    }\n",
       "\n",
       "    .dataframe tbody tr th {\n",
       "        vertical-align: top;\n",
       "    }\n",
       "\n",
       "    .dataframe thead th {\n",
       "        text-align: right;\n",
       "    }\n",
       "</style>\n",
       "<table border=\"1\" class=\"dataframe\">\n",
       "  <thead>\n",
       "    <tr style=\"text-align: right;\">\n",
       "      <th></th>\n",
       "      <th>number_of_products</th>\n",
       "      <th>number_of_brands</th>\n",
       "      <th>number_of_categorys</th>\n",
       "    </tr>\n",
       "  </thead>\n",
       "  <tbody>\n",
       "    <tr>\n",
       "      <th>0</th>\n",
       "      <td>27592</td>\n",
       "      <td>2711</td>\n",
       "      <td>26</td>\n",
       "    </tr>\n",
       "  </tbody>\n",
       "</table>\n",
       "</div>"
      ],
      "text/plain": [
       "   number_of_products  number_of_brands  number_of_categorys\n",
       "0               27592              2711                   26"
      ]
     },
     "execution_count": 8,
     "metadata": {},
     "output_type": "execute_result"
    }
   ],
   "source": [
    "q1 = (\n",
    "    \"\"\"\n",
    "    SELECT COUNT(DISTINCT(product_id)) AS number_of_products, COUNT(DISTINCT(products.brand)) AS number_of_brands, COUNT(DISTINCT(products.category)) AS number_of_categorys\n",
    "    FROM `bigquery-public-data.thelook_ecommerce.order_items`AS order_items\n",
    "    INNER JOIN `bigquery-public-data.thelook_ecommerce.products` AS products ON products.id = order_items.product_id\n",
    "    WHERE\n",
    "        created_at BETWEEN \"2022-01-01\" AND \"2023-01-01\"\n",
    "    \"\"\")\n",
    "\n",
    "query_df(q1)"
   ]
  },
  {
   "cell_type": "code",
   "execution_count": 9,
   "id": "84d3eb16",
   "metadata": {},
   "outputs": [
    {
     "data": {
      "text/html": [
       "<div>\n",
       "<style scoped>\n",
       "    .dataframe tbody tr th:only-of-type {\n",
       "        vertical-align: middle;\n",
       "    }\n",
       "\n",
       "    .dataframe tbody tr th {\n",
       "        vertical-align: top;\n",
       "    }\n",
       "\n",
       "    .dataframe thead th {\n",
       "        text-align: right;\n",
       "    }\n",
       "</style>\n",
       "<table border=\"1\" class=\"dataframe\">\n",
       "  <thead>\n",
       "    <tr style=\"text-align: right;\">\n",
       "      <th></th>\n",
       "      <th>category</th>\n",
       "      <th>units_sold</th>\n",
       "    </tr>\n",
       "  </thead>\n",
       "  <tbody>\n",
       "    <tr>\n",
       "      <th>0</th>\n",
       "      <td>Intimates</td>\n",
       "      <td>6165</td>\n",
       "    </tr>\n",
       "    <tr>\n",
       "      <th>1</th>\n",
       "      <td>Jeans</td>\n",
       "      <td>6025</td>\n",
       "    </tr>\n",
       "    <tr>\n",
       "      <th>2</th>\n",
       "      <td>Tops &amp; Tees</td>\n",
       "      <td>5754</td>\n",
       "    </tr>\n",
       "    <tr>\n",
       "      <th>3</th>\n",
       "      <td>Fashion Hoodies &amp; Sweatshirts</td>\n",
       "      <td>5607</td>\n",
       "    </tr>\n",
       "    <tr>\n",
       "      <th>4</th>\n",
       "      <td>Swim</td>\n",
       "      <td>5339</td>\n",
       "    </tr>\n",
       "    <tr>\n",
       "      <th>5</th>\n",
       "      <td>Shorts</td>\n",
       "      <td>5312</td>\n",
       "    </tr>\n",
       "    <tr>\n",
       "      <th>6</th>\n",
       "      <td>Sweaters</td>\n",
       "      <td>5307</td>\n",
       "    </tr>\n",
       "    <tr>\n",
       "      <th>7</th>\n",
       "      <td>Sleep &amp; Lounge</td>\n",
       "      <td>5196</td>\n",
       "    </tr>\n",
       "    <tr>\n",
       "      <th>8</th>\n",
       "      <td>Accessories</td>\n",
       "      <td>4739</td>\n",
       "    </tr>\n",
       "    <tr>\n",
       "      <th>9</th>\n",
       "      <td>Outerwear &amp; Coats</td>\n",
       "      <td>4313</td>\n",
       "    </tr>\n",
       "  </tbody>\n",
       "</table>\n",
       "</div>"
      ],
      "text/plain": [
       "                        category  units_sold\n",
       "0                      Intimates        6165\n",
       "1                          Jeans        6025\n",
       "2                    Tops & Tees        5754\n",
       "3  Fashion Hoodies & Sweatshirts        5607\n",
       "4                           Swim        5339\n",
       "5                         Shorts        5312\n",
       "6                       Sweaters        5307\n",
       "7                 Sleep & Lounge        5196\n",
       "8                    Accessories        4739\n",
       "9              Outerwear & Coats        4313"
      ]
     },
     "execution_count": 9,
     "metadata": {},
     "output_type": "execute_result"
    }
   ],
   "source": [
    "q2 = (\n",
    "    \"\"\"\n",
    "    SELECT products.category, COUNT(order_items.id) AS units_sold\n",
    "    FROM `bigquery-public-data.thelook_ecommerce.order_items`AS order_items\n",
    "    INNER JOIN `bigquery-public-data.thelook_ecommerce.products` AS products ON products.id = order_items.product_id\n",
    "    WHERE\n",
    "        order_items.created_at BETWEEN \"2022-01-01\" AND \"2023-01-01\"\n",
    "    GROUP BY\n",
    "        products.category\n",
    "    ORDER BY\n",
    "        units_sold DESC\n",
    "    LIMIT 10\n",
    "    \"\"\")\n",
    "\n",
    "query_df(q2)"
   ]
  },
  {
   "cell_type": "markdown",
   "id": "07c9188d",
   "metadata": {},
   "source": [
    "So above we can see there are over 25,000 different products sold in 2022. The products are from over 2,500 different brands and broken up between 26 categorys. Due to the size of the market we are going to focus on one category, Tops & Tees. We are going do some exploratory analysis and look at the Mens department versus the Womens department in 2022. We are specifically going to look at;\n",
    "\n",
    "- Who sold more units?\n",
    "- Who had more options of products?\n",
    "- Who has a higher average selling price?\n",
    "\n",
    "I think the Womens department will have a higher demand over the year and more options then the Mens department but I think the average selling price will be close. Lets dive in and find out."
   ]
  },
  {
   "cell_type": "markdown",
   "id": "877b2f88",
   "metadata": {},
   "source": [
    "## TOPS & TEES"
   ]
  },
  {
   "cell_type": "code",
   "execution_count": 10,
   "id": "d76aa5e5",
   "metadata": {
    "scrolled": true
   },
   "outputs": [
    {
     "data": {
      "text/html": [
       "<div>\n",
       "<style scoped>\n",
       "    .dataframe tbody tr th:only-of-type {\n",
       "        vertical-align: middle;\n",
       "    }\n",
       "\n",
       "    .dataframe tbody tr th {\n",
       "        vertical-align: top;\n",
       "    }\n",
       "\n",
       "    .dataframe thead th {\n",
       "        text-align: right;\n",
       "    }\n",
       "</style>\n",
       "<table border=\"1\" class=\"dataframe\">\n",
       "  <thead>\n",
       "    <tr style=\"text-align: right;\">\n",
       "      <th></th>\n",
       "      <th>department</th>\n",
       "      <th>total_units</th>\n",
       "      <th>total_sales</th>\n",
       "      <th>category</th>\n",
       "    </tr>\n",
       "  </thead>\n",
       "  <tbody>\n",
       "    <tr>\n",
       "      <th>0</th>\n",
       "      <td>Men</td>\n",
       "      <td>3612</td>\n",
       "      <td>155828</td>\n",
       "      <td>Tops &amp; Tees</td>\n",
       "    </tr>\n",
       "    <tr>\n",
       "      <th>1</th>\n",
       "      <td>Women</td>\n",
       "      <td>2142</td>\n",
       "      <td>86094</td>\n",
       "      <td>Tops &amp; Tees</td>\n",
       "    </tr>\n",
       "  </tbody>\n",
       "</table>\n",
       "</div>"
      ],
      "text/plain": [
       "  department  total_units  total_sales     category\n",
       "0        Men         3612       155828  Tops & Tees\n",
       "1      Women         2142        86094  Tops & Tees"
      ]
     },
     "execution_count": 10,
     "metadata": {},
     "output_type": "execute_result"
    }
   ],
   "source": [
    "q3 = (\n",
    "    \"\"\"\n",
    "    SELECT products.department, COUNT(order_items.id) AS total_units, CAST(SUM(order_items.sale_price) as int) AS total_sales, products.category\n",
    "    FROM `bigquery-public-data.thelook_ecommerce.order_items`AS order_items\n",
    "    INNER JOIN `bigquery-public-data.thelook_ecommerce.products` AS products ON products.id = order_items.product_id\n",
    "    WHERE\n",
    "        order_items.created_at BETWEEN \"2022-01-01\" AND \"2023-01-01\"\n",
    "    GROUP BY\n",
    "        products.department, products.category\n",
    "    HAVING\n",
    "        products.category = \"Tops & Tees\"\n",
    "    ORDER BY\n",
    "        total_units DESC\n",
    "    \"\"\")\n",
    "\n",
    "query_df(q3)"
   ]
  },
  {
   "cell_type": "code",
   "execution_count": 11,
   "id": "92abbe72",
   "metadata": {
    "scrolled": true
   },
   "outputs": [
    {
     "data": {
      "text/plain": [
       "<matplotlib.legend.Legend at 0x2579c639610>"
      ]
     },
     "execution_count": 11,
     "metadata": {},
     "output_type": "execute_result"
    },
    {
     "data": {
      "image/png": "[encoded data removed]",
      "text/plain": [
       "<Figure size 640x480 with 1 Axes>"
      ]
     },
     "metadata": {},
     "output_type": "display_data"
    }
   ],
   "source": [
    "q4 = '''\n",
    "    SELECT\n",
    "        SUM(CASE WHEN products.department = 'Men' AND products.category = 'Tops & Tees' THEN products.retail_price/products.retail_price ELSE NULL END) AS units_men,\n",
    "        SUM(CASE WHEN products.department = 'Women' AND products.category = 'Tops & Tees' THEN products.retail_price/products.retail_price ELSE NULL END) AS units_women,\n",
    "        EXTRACT(YEAR FROM order_items.created_at) AS year_created,\n",
    "        EXTRACT(MONTH FROM order_items.created_at) AS month_created\n",
    "    FROM `bigquery-public-data.thelook_ecommerce.order_items` AS order_items\n",
    "    INNER JOIN `bigquery-public-data.thelook_ecommerce.products` AS products ON products.id = order_items.product_id\n",
    "    GROUP BY\n",
    "        year_created, month_created\n",
    "    HAVING\n",
    "        year_created = 2022\n",
    "    ORDER BY\n",
    "        year_created, month_created\n",
    "    '''\n",
    "df4 = query_df(q4)\n",
    "plt.plot(df4.month_created, df4.units_men, label = \"Men\")\n",
    "plt.plot(df4.month_created, df4.units_women, label = \"Women\")\n",
    "plt.title(\"Department Units Sold Per Month (2022)\")\n",
    "plt.xlabel(\"Month\")\n",
    "plt.ylabel(\"Number of Units Sold\")\n",
    "plt.legend()"
   ]
  },
  {
   "cell_type": "markdown",
   "id": "0d9d9abc",
   "metadata": {},
   "source": [
    "Looking at table and graph above its clear the Mens department had a higher demand then the Womens department throughout the year selling 3,565 units compared to 2,019. Also, the Mens department generated 150,967 dollars in revenue and the Womens department generated 89,646 dollars in revenue."
   ]
  },
  {
   "cell_type": "markdown",
   "id": "b2be852e",
   "metadata": {},
   "source": [
    "Now lets specifically look at the Mens department..."
   ]
  },
  {
   "cell_type": "code",
   "execution_count": 12,
   "id": "cf96a548",
   "metadata": {},
   "outputs": [
    {
     "data": {
      "text/html": [
       "<div>\n",
       "<style scoped>\n",
       "    .dataframe tbody tr th:only-of-type {\n",
       "        vertical-align: middle;\n",
       "    }\n",
       "\n",
       "    .dataframe tbody tr th {\n",
       "        vertical-align: top;\n",
       "    }\n",
       "\n",
       "    .dataframe thead th {\n",
       "        text-align: right;\n",
       "    }\n",
       "</style>\n",
       "<table border=\"1\" class=\"dataframe\">\n",
       "  <thead>\n",
       "    <tr style=\"text-align: right;\">\n",
       "      <th></th>\n",
       "      <th>number_of_products</th>\n",
       "      <th>category</th>\n",
       "      <th>department</th>\n",
       "    </tr>\n",
       "  </thead>\n",
       "  <tbody>\n",
       "    <tr>\n",
       "      <th>0</th>\n",
       "      <td>1044</td>\n",
       "      <td>Tops &amp; Tees</td>\n",
       "      <td>Men</td>\n",
       "    </tr>\n",
       "  </tbody>\n",
       "</table>\n",
       "</div>"
      ],
      "text/plain": [
       "   number_of_products     category department\n",
       "0                1044  Tops & Tees        Men"
      ]
     },
     "execution_count": 12,
     "metadata": {},
     "output_type": "execute_result"
    }
   ],
   "source": [
    "q5 = (\n",
    "    \"\"\"\n",
    "    SELECT COUNT(DISTINCT(product_id)) AS number_of_products, products.category, products.department\n",
    "    FROM `bigquery-public-data.thelook_ecommerce.order_items`AS order_items\n",
    "    INNER JOIN `bigquery-public-data.thelook_ecommerce.products` AS products ON products.id = order_items.product_id\n",
    "    WHERE\n",
    "        order_items.created_at BETWEEN \"2022-01-01\" AND \"2023-01-01\"\n",
    "    GROUP BY\n",
    "        products.category, products.department\n",
    "    HAVING\n",
    "        products.category = 'Tops & Tees' AND products.department = \"Men\"\n",
    "    \"\"\")\n",
    "query_df(q5)"
   ]
  },
  {
   "cell_type": "code",
   "execution_count": 13,
   "id": "2c9eae54",
   "metadata": {
    "scrolled": true
   },
   "outputs": [
    {
     "data": {
      "text/html": [
       "<div>\n",
       "<style scoped>\n",
       "    .dataframe tbody tr th:only-of-type {\n",
       "        vertical-align: middle;\n",
       "    }\n",
       "\n",
       "    .dataframe tbody tr th {\n",
       "        vertical-align: top;\n",
       "    }\n",
       "\n",
       "    .dataframe thead th {\n",
       "        text-align: right;\n",
       "    }\n",
       "</style>\n",
       "<table border=\"1\" class=\"dataframe\">\n",
       "  <thead>\n",
       "    <tr style=\"text-align: right;\">\n",
       "      <th></th>\n",
       "      <th>brand</th>\n",
       "      <th>units_sold</th>\n",
       "      <th>avg_price</th>\n",
       "      <th>category</th>\n",
       "      <th>department</th>\n",
       "    </tr>\n",
       "  </thead>\n",
       "  <tbody>\n",
       "    <tr>\n",
       "      <th>0</th>\n",
       "      <td>Carhartt</td>\n",
       "      <td>144</td>\n",
       "      <td>48.736597</td>\n",
       "      <td>Tops &amp; Tees</td>\n",
       "      <td>Men</td>\n",
       "    </tr>\n",
       "    <tr>\n",
       "      <th>1</th>\n",
       "      <td>Van Heusen</td>\n",
       "      <td>125</td>\n",
       "      <td>38.711920</td>\n",
       "      <td>Tops &amp; Tees</td>\n",
       "      <td>Men</td>\n",
       "    </tr>\n",
       "    <tr>\n",
       "      <th>2</th>\n",
       "      <td>U.S. Polo Assn.</td>\n",
       "      <td>121</td>\n",
       "      <td>30.937521</td>\n",
       "      <td>Tops &amp; Tees</td>\n",
       "      <td>Men</td>\n",
       "    </tr>\n",
       "    <tr>\n",
       "      <th>3</th>\n",
       "      <td>Volcom</td>\n",
       "      <td>117</td>\n",
       "      <td>37.606667</td>\n",
       "      <td>Tops &amp; Tees</td>\n",
       "      <td>Men</td>\n",
       "    </tr>\n",
       "    <tr>\n",
       "      <th>4</th>\n",
       "      <td>Harley-Davidson</td>\n",
       "      <td>105</td>\n",
       "      <td>31.236191</td>\n",
       "      <td>Tops &amp; Tees</td>\n",
       "      <td>Men</td>\n",
       "    </tr>\n",
       "    <tr>\n",
       "      <th>5</th>\n",
       "      <td>DC</td>\n",
       "      <td>93</td>\n",
       "      <td>30.477957</td>\n",
       "      <td>Tops &amp; Tees</td>\n",
       "      <td>Men</td>\n",
       "    </tr>\n",
       "    <tr>\n",
       "      <th>6</th>\n",
       "      <td>Columbia</td>\n",
       "      <td>85</td>\n",
       "      <td>58.681647</td>\n",
       "      <td>Tops &amp; Tees</td>\n",
       "      <td>Men</td>\n",
       "    </tr>\n",
       "    <tr>\n",
       "      <th>7</th>\n",
       "      <td>Hurley</td>\n",
       "      <td>81</td>\n",
       "      <td>32.015679</td>\n",
       "      <td>Tops &amp; Tees</td>\n",
       "      <td>Men</td>\n",
       "    </tr>\n",
       "    <tr>\n",
       "      <th>8</th>\n",
       "      <td>Tommy Hilfiger</td>\n",
       "      <td>79</td>\n",
       "      <td>37.618988</td>\n",
       "      <td>Tops &amp; Tees</td>\n",
       "      <td>Men</td>\n",
       "    </tr>\n",
       "    <tr>\n",
       "      <th>9</th>\n",
       "      <td>Gildan</td>\n",
       "      <td>65</td>\n",
       "      <td>21.395692</td>\n",
       "      <td>Tops &amp; Tees</td>\n",
       "      <td>Men</td>\n",
       "    </tr>\n",
       "  </tbody>\n",
       "</table>\n",
       "</div>"
      ],
      "text/plain": [
       "             brand  units_sold  avg_price     category department\n",
       "0         Carhartt         144  48.736597  Tops & Tees        Men\n",
       "1       Van Heusen         125  38.711920  Tops & Tees        Men\n",
       "2  U.S. Polo Assn.         121  30.937521  Tops & Tees        Men\n",
       "3           Volcom         117  37.606667  Tops & Tees        Men\n",
       "4  Harley-Davidson         105  31.236191  Tops & Tees        Men\n",
       "5               DC          93  30.477957  Tops & Tees        Men\n",
       "6         Columbia          85  58.681647  Tops & Tees        Men\n",
       "7           Hurley          81  32.015679  Tops & Tees        Men\n",
       "8   Tommy Hilfiger          79  37.618988  Tops & Tees        Men\n",
       "9           Gildan          65  21.395692  Tops & Tees        Men"
      ]
     },
     "execution_count": 13,
     "metadata": {},
     "output_type": "execute_result"
    }
   ],
   "source": [
    "q6 = (\n",
    "    \"\"\"\n",
    "    SELECT products.brand, COUNT(order_items.id) AS units_sold, AVG(sale_price) AS avg_price, products.category, products.department\n",
    "    FROM `bigquery-public-data.thelook_ecommerce.order_items`AS order_items\n",
    "    INNER JOIN `bigquery-public-data.thelook_ecommerce.products` AS products ON products.id = order_items.product_id\n",
    "    WHERE\n",
    "        order_items.created_at BETWEEN \"2022-01-01\" AND \"2023-01-01\"\n",
    "    GROUP BY\n",
    "        products.brand, products.category, products.department\n",
    "    HAVING\n",
    "        products.category = 'Tops & Tees' AND products.department = 'Men'\n",
    "    ORDER BY\n",
    "        units_sold DESC\n",
    "    LIMIT 10\n",
    "    \"\"\")\n",
    "\n",
    "query_df(q6)"
   ]
  },
  {
   "cell_type": "markdown",
   "id": "7879a82c",
   "metadata": {},
   "source": [
    "Looking at the first table, the Mens department sold 1,044 different Tops & Tees in 2022. The second table is more complex showing us the top 10 brands that sold most units along with their average price. This information is useful because it highlights the top vendors in the department and gives you an idea of their pricing. Now lets look at the average princing across the Mens department."
   ]
  },
  {
   "cell_type": "code",
   "execution_count": 14,
   "id": "73666931",
   "metadata": {
    "scrolled": true
   },
   "outputs": [
    {
     "data": {
      "text/plain": [
       "Text(0.5, 1.0, 'Mens Department Distinct Products Avg Prices (2022)')"
      ]
     },
     "execution_count": 14,
     "metadata": {},
     "output_type": "execute_result"
    },
    {
     "data": {
      "image/png": "[encoded data removed]",
      "text/plain": [
       "<Figure size 640x480 with 1 Axes>"
      ]
     },
     "metadata": {},
     "output_type": "display_data"
    }
   ],
   "source": [
    "q7 = '''\n",
    "    SELECT \n",
    "       DISTINCT(order_items.product_id), AVG(order_items.sale_price) AS avg_sale_price, products.category, products.department\n",
    "    FROM `bigquery-public-data.thelook_ecommerce.order_items`AS order_items\n",
    "    INNER JOIN `bigquery-public-data.thelook_ecommerce.products` AS products ON products.id = order_items.product_id\n",
    "    WHERE\n",
    "        order_items.created_at BETWEEN \"2022-01-01\" AND \"2023-01-01\"\n",
    "    GROUP BY\n",
    "        order_items.product_id, products.category, products.department\n",
    "    HAVING\n",
    "        products.category = 'Tops & Tees' AND products.department = 'Men'\n",
    "    '''\n",
    "\n",
    "df7 = query_df(q7)\n",
    "plt.hist(df7.avg_sale_price, bins = 25)\n",
    "plt.title(\"Mens Department Distinct Products Avg Prices (2022)\")"
   ]
  },
  {
   "cell_type": "markdown",
   "id": "2da58329",
   "metadata": {},
   "source": [
    "So here we can see the distribution of the average sale price of distinct products for the Mens department is skewed to the right. It appears most of the products offered are probably between 30 and 50 dollars. The distribution mean looks to be around 40 dollars.\n",
    "\n",
    "We will double check these conlusions later but lets move on to the Womens department."
   ]
  },
  {
   "cell_type": "code",
   "execution_count": 15,
   "id": "9400737d",
   "metadata": {},
   "outputs": [
    {
     "data": {
      "text/html": [
       "<div>\n",
       "<style scoped>\n",
       "    .dataframe tbody tr th:only-of-type {\n",
       "        vertical-align: middle;\n",
       "    }\n",
       "\n",
       "    .dataframe tbody tr th {\n",
       "        vertical-align: top;\n",
       "    }\n",
       "\n",
       "    .dataframe thead th {\n",
       "        text-align: right;\n",
       "    }\n",
       "</style>\n",
       "<table border=\"1\" class=\"dataframe\">\n",
       "  <thead>\n",
       "    <tr style=\"text-align: right;\">\n",
       "      <th></th>\n",
       "      <th>number_of_products</th>\n",
       "      <th>category</th>\n",
       "      <th>department</th>\n",
       "    </tr>\n",
       "  </thead>\n",
       "  <tbody>\n",
       "    <tr>\n",
       "      <th>0</th>\n",
       "      <td>735</td>\n",
       "      <td>Tops &amp; Tees</td>\n",
       "      <td>Women</td>\n",
       "    </tr>\n",
       "  </tbody>\n",
       "</table>\n",
       "</div>"
      ],
      "text/plain": [
       "   number_of_products     category department\n",
       "0                 735  Tops & Tees      Women"
      ]
     },
     "execution_count": 15,
     "metadata": {},
     "output_type": "execute_result"
    }
   ],
   "source": [
    "q8 = (\n",
    "    \"\"\"\n",
    "    SELECT COUNT(DISTINCT(product_id)) AS number_of_products, products.category, products.department\n",
    "    FROM `bigquery-public-data.thelook_ecommerce.order_items`AS order_items\n",
    "    INNER JOIN `bigquery-public-data.thelook_ecommerce.products` AS products ON products.id = order_items.product_id\n",
    "    WHERE\n",
    "        order_items.created_at BETWEEN \"2022-01-01\" AND \"2023-01-01\"\n",
    "    GROUP BY\n",
    "        products.category, products.department\n",
    "    HAVING\n",
    "        products.category = 'Tops & Tees' AND products.department = \"Women\"\n",
    "    \"\"\")\n",
    "query_df(q8)"
   ]
  },
  {
   "cell_type": "code",
   "execution_count": 16,
   "id": "ee8ab447",
   "metadata": {},
   "outputs": [
    {
     "data": {
      "text/html": [
       "<div>\n",
       "<style scoped>\n",
       "    .dataframe tbody tr th:only-of-type {\n",
       "        vertical-align: middle;\n",
       "    }\n",
       "\n",
       "    .dataframe tbody tr th {\n",
       "        vertical-align: top;\n",
       "    }\n",
       "\n",
       "    .dataframe thead th {\n",
       "        text-align: right;\n",
       "    }\n",
       "</style>\n",
       "<table border=\"1\" class=\"dataframe\">\n",
       "  <thead>\n",
       "    <tr style=\"text-align: right;\">\n",
       "      <th></th>\n",
       "      <th>brand</th>\n",
       "      <th>units_sold</th>\n",
       "      <th>avg_price</th>\n",
       "      <th>category</th>\n",
       "      <th>department</th>\n",
       "    </tr>\n",
       "  </thead>\n",
       "  <tbody>\n",
       "    <tr>\n",
       "      <th>0</th>\n",
       "      <td>Allegra K</td>\n",
       "      <td>296</td>\n",
       "      <td>10.741182</td>\n",
       "      <td>Tops &amp; Tees</td>\n",
       "      <td>Women</td>\n",
       "    </tr>\n",
       "    <tr>\n",
       "      <th>1</th>\n",
       "      <td>Patty</td>\n",
       "      <td>131</td>\n",
       "      <td>32.269466</td>\n",
       "      <td>Tops &amp; Tees</td>\n",
       "      <td>Women</td>\n",
       "    </tr>\n",
       "    <tr>\n",
       "      <th>2</th>\n",
       "      <td>Lucky Brand</td>\n",
       "      <td>67</td>\n",
       "      <td>59.111343</td>\n",
       "      <td>Tops &amp; Tees</td>\n",
       "      <td>Women</td>\n",
       "    </tr>\n",
       "    <tr>\n",
       "      <th>3</th>\n",
       "      <td>Bella</td>\n",
       "      <td>49</td>\n",
       "      <td>25.680816</td>\n",
       "      <td>Tops &amp; Tees</td>\n",
       "      <td>Women</td>\n",
       "    </tr>\n",
       "    <tr>\n",
       "      <th>4</th>\n",
       "      <td>Devon &amp; Jones</td>\n",
       "      <td>46</td>\n",
       "      <td>32.611305</td>\n",
       "      <td>Tops &amp; Tees</td>\n",
       "      <td>Women</td>\n",
       "    </tr>\n",
       "    <tr>\n",
       "      <th>5</th>\n",
       "      <td>eVogues Apparel</td>\n",
       "      <td>43</td>\n",
       "      <td>31.501629</td>\n",
       "      <td>Tops &amp; Tees</td>\n",
       "      <td>Women</td>\n",
       "    </tr>\n",
       "    <tr>\n",
       "      <th>6</th>\n",
       "      <td>Next Level</td>\n",
       "      <td>41</td>\n",
       "      <td>23.125610</td>\n",
       "      <td>Tops &amp; Tees</td>\n",
       "      <td>Women</td>\n",
       "    </tr>\n",
       "    <tr>\n",
       "      <th>7</th>\n",
       "      <td>American Apparel</td>\n",
       "      <td>41</td>\n",
       "      <td>23.146341</td>\n",
       "      <td>Tops &amp; Tees</td>\n",
       "      <td>Women</td>\n",
       "    </tr>\n",
       "    <tr>\n",
       "      <th>8</th>\n",
       "      <td>Carhartt</td>\n",
       "      <td>32</td>\n",
       "      <td>40.327812</td>\n",
       "      <td>Tops &amp; Tees</td>\n",
       "      <td>Women</td>\n",
       "    </tr>\n",
       "    <tr>\n",
       "      <th>9</th>\n",
       "      <td>Columbia</td>\n",
       "      <td>32</td>\n",
       "      <td>57.184688</td>\n",
       "      <td>Tops &amp; Tees</td>\n",
       "      <td>Women</td>\n",
       "    </tr>\n",
       "  </tbody>\n",
       "</table>\n",
       "</div>"
      ],
      "text/plain": [
       "              brand  units_sold  avg_price     category department\n",
       "0         Allegra K         296  10.741182  Tops & Tees      Women\n",
       "1             Patty         131  32.269466  Tops & Tees      Women\n",
       "2       Lucky Brand          67  59.111343  Tops & Tees      Women\n",
       "3             Bella          49  25.680816  Tops & Tees      Women\n",
       "4     Devon & Jones          46  32.611305  Tops & Tees      Women\n",
       "5   eVogues Apparel          43  31.501629  Tops & Tees      Women\n",
       "6        Next Level          41  23.125610  Tops & Tees      Women\n",
       "7  American Apparel          41  23.146341  Tops & Tees      Women\n",
       "8          Carhartt          32  40.327812  Tops & Tees      Women\n",
       "9          Columbia          32  57.184688  Tops & Tees      Women"
      ]
     },
     "execution_count": 16,
     "metadata": {},
     "output_type": "execute_result"
    }
   ],
   "source": [
    "q9 = (\n",
    "    \"\"\"\n",
    "    SELECT products.brand, COUNT(order_items.id) AS units_sold, AVG(sale_price) AS avg_price, products.category, products.department\n",
    "    FROM `bigquery-public-data.thelook_ecommerce.order_items`AS order_items\n",
    "    INNER JOIN `bigquery-public-data.thelook_ecommerce.products` AS products ON products.id = order_items.product_id\n",
    "    WHERE\n",
    "        order_items.created_at BETWEEN \"2022-01-01\" AND \"2023-01-01\"\n",
    "    GROUP BY\n",
    "        products.brand, products.category, products.department\n",
    "    HAVING\n",
    "        products.category = 'Tops & Tees' AND products.department = 'Women'\n",
    "    ORDER BY\n",
    "        units_sold DESC\n",
    "    LIMIT 10\n",
    "    \"\"\")\n",
    "\n",
    "query_df(q9)"
   ]
  },
  {
   "cell_type": "markdown",
   "id": "328cdbf2",
   "metadata": {},
   "source": [
    "Above we can the see the Womens department sold 735 different Tops & Tees in 2022. The next table reveals the top 10 brands that sold most units along with their average price. This information highlights the top vendors in the Womens department and gives you an idea of their pricing. Now lets look at the average princing across the Womens department."
   ]
  },
  {
   "cell_type": "code",
   "execution_count": 17,
   "id": "86ac993b",
   "metadata": {
    "scrolled": true
   },
   "outputs": [
    {
     "data": {
      "text/plain": [
       "Text(0.5, 1.0, 'Womens Department Distinct Products Avg Prices (2022)')"
      ]
     },
     "execution_count": 17,
     "metadata": {},
     "output_type": "execute_result"
    },
    {
     "data": {
      "image/png": "[encoded data removed]",
      "text/plain": [
       "<Figure size 640x480 with 1 Axes>"
      ]
     },
     "metadata": {},
     "output_type": "display_data"
    }
   ],
   "source": [
    "q10 = '''\n",
    "    SELECT \n",
    "       DISTINCT(order_items.product_id), AVG(order_items.sale_price) AS avg_sale_price, products.category, products.department\n",
    "    FROM `bigquery-public-data.thelook_ecommerce.order_items`AS order_items\n",
    "    INNER JOIN `bigquery-public-data.thelook_ecommerce.products` AS products ON products.id = order_items.product_id\n",
    "    WHERE\n",
    "        order_items.created_at BETWEEN \"2022-01-01\" AND \"2023-01-01\"\n",
    "    GROUP BY\n",
    "        order_items.product_id, products.category, products.department\n",
    "    HAVING\n",
    "        products.category = 'Tops & Tees' AND products.department = 'Women'\n",
    "    '''\n",
    "\n",
    "df10 = query_df(q10)\n",
    "plt.hist(df10.avg_sale_price, bins = 25)\n",
    "plt.title(\"Womens Department Distinct Products Avg Prices (2022)\")"
   ]
  },
  {
   "cell_type": "markdown",
   "id": "008972dd",
   "metadata": {},
   "source": [
    "The distribution above for the average sale price of distinct products for the Womens Department also appears to be skewed to the right. Most of the product appeat to be around 20 to 40 dollars and the distribution mean should be about 35 dollars.\n",
    "\n",
    "Now lets compare both distributions..."
   ]
  },
  {
   "cell_type": "code",
   "execution_count": 18,
   "id": "3f7e3b8b",
   "metadata": {},
   "outputs": [
    {
     "name": "stderr",
     "output_type": "stream",
     "text": [
      "C:\\Users\\Canas\\anaconda3\\lib\\site-packages\\seaborn\\distributions.py:2619: FutureWarning: `distplot` is a deprecated function and will be removed in a future version. Please adapt your code to use either `displot` (a figure-level function with similar flexibility) or `kdeplot` (an axes-level function for kernel density plots).\n",
      "  warnings.warn(msg, FutureWarning)\n",
      "C:\\Users\\Canas\\anaconda3\\lib\\site-packages\\seaborn\\distributions.py:2619: FutureWarning: `distplot` is a deprecated function and will be removed in a future version. Please adapt your code to use either `displot` (a figure-level function with similar flexibility) or `kdeplot` (an axes-level function for kernel density plots).\n",
      "  warnings.warn(msg, FutureWarning)\n"
     ]
    },
    {
     "data": {
      "text/plain": [
       "<matplotlib.legend.Legend at 0x2579cdd5fd0>"
      ]
     },
     "execution_count": 18,
     "metadata": {},
     "output_type": "execute_result"
    },
    {
     "data": {
      "image/png": "[encoded data removed]",
      "text/plain": [
       "<Figure size 640x480 with 1 Axes>"
      ]
     },
     "metadata": {},
     "output_type": "display_data"
    }
   ],
   "source": [
    "sns.distplot(df7.avg_sale_price, hist = False, label = \"Men\")\n",
    "sns.distplot(df10.avg_sale_price, hist = False, label = \"Women\")\n",
    "plt.legend()"
   ]
  },
  {
   "cell_type": "markdown",
   "id": "8d7bd4ed",
   "metadata": {},
   "source": [
    "Looking at both distributions, they are both skewed to the right but the Womens distributions is skewed a little more then the Mens. We can conclude that the distribution mean for the for the Womens department will be a little lower then the Mens department. Lets confirm with some basic statistics."
   ]
  },
  {
   "cell_type": "code",
   "execution_count": 19,
   "id": "13cc20cb",
   "metadata": {},
   "outputs": [
    {
     "data": {
      "text/html": [
       "<div>\n",
       "<style scoped>\n",
       "    .dataframe tbody tr th:only-of-type {\n",
       "        vertical-align: middle;\n",
       "    }\n",
       "\n",
       "    .dataframe tbody tr th {\n",
       "        vertical-align: top;\n",
       "    }\n",
       "\n",
       "    .dataframe thead th {\n",
       "        text-align: right;\n",
       "    }\n",
       "</style>\n",
       "<table border=\"1\" class=\"dataframe\">\n",
       "  <thead>\n",
       "    <tr style=\"text-align: right;\">\n",
       "      <th></th>\n",
       "      <th>product_id</th>\n",
       "      <th>avg_sale_price</th>\n",
       "    </tr>\n",
       "  </thead>\n",
       "  <tbody>\n",
       "    <tr>\n",
       "      <th>count</th>\n",
       "      <td>1044.000000</td>\n",
       "      <td>1044.000000</td>\n",
       "    </tr>\n",
       "    <tr>\n",
       "      <th>mean</th>\n",
       "      <td>16532.475096</td>\n",
       "      <td>42.229052</td>\n",
       "    </tr>\n",
       "    <tr>\n",
       "      <th>std</th>\n",
       "      <td>312.598405</td>\n",
       "      <td>30.465706</td>\n",
       "    </tr>\n",
       "    <tr>\n",
       "      <th>min</th>\n",
       "      <td>15990.000000</td>\n",
       "      <td>5.000000</td>\n",
       "    </tr>\n",
       "    <tr>\n",
       "      <th>25%</th>\n",
       "      <td>16263.750000</td>\n",
       "      <td>24.950001</td>\n",
       "    </tr>\n",
       "    <tr>\n",
       "      <th>50%</th>\n",
       "      <td>16531.500000</td>\n",
       "      <td>32.990002</td>\n",
       "    </tr>\n",
       "    <tr>\n",
       "      <th>75%</th>\n",
       "      <td>16804.250000</td>\n",
       "      <td>49.500000</td>\n",
       "    </tr>\n",
       "    <tr>\n",
       "      <th>max</th>\n",
       "      <td>17076.000000</td>\n",
       "      <td>268.000000</td>\n",
       "    </tr>\n",
       "  </tbody>\n",
       "</table>\n",
       "</div>"
      ],
      "text/plain": [
       "         product_id  avg_sale_price\n",
       "count   1044.000000     1044.000000\n",
       "mean   16532.475096       42.229052\n",
       "std      312.598405       30.465706\n",
       "min    15990.000000        5.000000\n",
       "25%    16263.750000       24.950001\n",
       "50%    16531.500000       32.990002\n",
       "75%    16804.250000       49.500000\n",
       "max    17076.000000      268.000000"
      ]
     },
     "execution_count": 19,
     "metadata": {},
     "output_type": "execute_result"
    }
   ],
   "source": [
    "# Mens Department\n",
    "df7.describe()"
   ]
  },
  {
   "cell_type": "code",
   "execution_count": 20,
   "id": "c3574492",
   "metadata": {},
   "outputs": [
    {
     "data": {
      "text/html": [
       "<div>\n",
       "<style scoped>\n",
       "    .dataframe tbody tr th:only-of-type {\n",
       "        vertical-align: middle;\n",
       "    }\n",
       "\n",
       "    .dataframe tbody tr th {\n",
       "        vertical-align: top;\n",
       "    }\n",
       "\n",
       "    .dataframe thead th {\n",
       "        text-align: right;\n",
       "    }\n",
       "</style>\n",
       "<table border=\"1\" class=\"dataframe\">\n",
       "  <thead>\n",
       "    <tr style=\"text-align: right;\">\n",
       "      <th></th>\n",
       "      <th>product_id</th>\n",
       "      <th>avg_sale_price</th>\n",
       "    </tr>\n",
       "  </thead>\n",
       "  <tbody>\n",
       "    <tr>\n",
       "      <th>count</th>\n",
       "      <td>735.000000</td>\n",
       "      <td>735.000000</td>\n",
       "    </tr>\n",
       "    <tr>\n",
       "      <th>mean</th>\n",
       "      <td>391.751020</td>\n",
       "      <td>39.666150</td>\n",
       "    </tr>\n",
       "    <tr>\n",
       "      <th>std</th>\n",
       "      <td>224.697597</td>\n",
       "      <td>35.336733</td>\n",
       "    </tr>\n",
       "    <tr>\n",
       "      <th>min</th>\n",
       "      <td>1.000000</td>\n",
       "      <td>3.110000</td>\n",
       "    </tr>\n",
       "    <tr>\n",
       "      <th>25%</th>\n",
       "      <td>198.500000</td>\n",
       "      <td>19.500000</td>\n",
       "    </tr>\n",
       "    <tr>\n",
       "      <th>50%</th>\n",
       "      <td>393.000000</td>\n",
       "      <td>29.950001</td>\n",
       "    </tr>\n",
       "    <tr>\n",
       "      <th>75%</th>\n",
       "      <td>583.500000</td>\n",
       "      <td>49.500000</td>\n",
       "    </tr>\n",
       "    <tr>\n",
       "      <th>max</th>\n",
       "      <td>796.000000</td>\n",
       "      <td>285.000000</td>\n",
       "    </tr>\n",
       "  </tbody>\n",
       "</table>\n",
       "</div>"
      ],
      "text/plain": [
       "       product_id  avg_sale_price\n",
       "count  735.000000      735.000000\n",
       "mean   391.751020       39.666150\n",
       "std    224.697597       35.336733\n",
       "min      1.000000        3.110000\n",
       "25%    198.500000       19.500000\n",
       "50%    393.000000       29.950001\n",
       "75%    583.500000       49.500000\n",
       "max    796.000000      285.000000"
      ]
     },
     "execution_count": 20,
     "metadata": {},
     "output_type": "execute_result"
    }
   ],
   "source": [
    "# Womens Department\n",
    "df10.describe()"
   ]
  },
  {
   "cell_type": "markdown",
   "id": "15c354bc",
   "metadata": {},
   "source": [
    "Conclusions:\n",
    "\n",
    "- The Mens department had a higher count meaning they offered more products.\n",
    "- The distribution mean for both departments are close but the Womens are a little lower.\n",
    "\n",
    "My hypothesis at the begining was wrong. The Mens department has a clear control of the Tops & Tees sector. Although, the distribution mean were close. There is further analysis we could do with this dataset but this will suffice for now."
   ]
  },
  {
   "cell_type": "code",
   "execution_count": null,
   "id": "a92b0d54",
   "metadata": {},
   "outputs": [],
   "source": []
  }
 ],
 "metadata": {
  "kernelspec": {
   "display_name": "Python 3 (ipykernel)",
   "language": "python",
   "name": "python3"
  },
  "language_info": {
   "codemirror_mode": {
    "name": "ipython",
    "version": 3
   },
   "file_extension": ".py",
   "mimetype": "text/x-python",
   "name": "python",
   "nbconvert_exporter": "python",
   "pygments_lexer": "ipython3",
   "version": "3.9.13"
  }
 },
 "nbformat": 4,
 "nbformat_minor": 5
}
